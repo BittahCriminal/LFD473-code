{
 "cells": [
  {
   "cell_type": "markdown",
   "metadata": {},
   "source": [
    "# Chapter 2: PyTorch, Datasets, and Models"
   ]
  },
  {
   "cell_type": "markdown",
   "metadata": {},
   "source": [
    "## 2.2 Learning Objectives\n",
    "\n",
    "By the end of this chapter, you should be able to:\n",
    "- understand the difference between supervised and unsupervised learning\n",
    "- understand the difference between software development and machine and deep learning\n",
    "- understand the general idea behind building and training a model\n",
    "- identify commonly used terms in machine and deep learning and their meanings"
   ]
  },
  {
   "cell_type": "markdown",
   "metadata": {},
   "source": [
    "## 2.3 What is PyTorch?\n",
    "\n",
    "PyTorch is an open-source deep learning framework developed by Meta AI in 2016. It offers both modularity and flexibility, making it the right tool for the job, whether you're tinkering with innovative models or maintaining an industry-scale application."
   ]
  },
  {
   "cell_type": "markdown",
   "metadata": {},
   "source": [
    "## 2.4 The PyTorch Ecosystem"
   ]
  },
  {
   "cell_type": "markdown",
   "metadata": {},
   "source": [
    "The range of fields and applications that can be powered by PyTorch is extensive:\n",
    "- Computer Vision (Kornia, Medical Open Network for Artificial Intelligence (MONAI), OpenMMLab, PyTorchVideo, Detectron2, PyTorch3D)\n",
    "    - machine and vehicular object detection, tracking, identification, and avoidance\n",
    "    - medical image analysis and diagnosis\n",
    "    - image recognition, classification, and tagging\n",
    "    - video classification and detection\n",
    "\n",
    "- Natural Language Processing (AllenNLP, NeMo, Transformers, flair)\n",
    "    - text classification, summarization, generation, and translation\n",
    "    - virtual assistants\n",
    "    - sentiment analysis\n",
    "    - question answering and search engines\n",
    "\n",
    "- Graph Neural Networks (torchdrug, PyTorch Geometric, DGL)\n",
    "    - molecule fingerprinting\n",
    "    - drug discovery and protein interface prediction\n",
    "    - social network analysis\n",
    "\n",
    "- Spatio-Temporal Graph Neural Networks (PyTorch Geometric Temporal)\n",
    "    - route planning and navigation\n",
    "    - traffic control and management\n",
    "    - inventory planning\n",
    "    - logistics optimization\n",
    "\n",
    "- Gaussian Processes (GPyTorch)\n",
    "    - time series modeling and anomaly detection\n",
    "    - risk management\n",
    "    - control engineering and robotics\n",
    "- Reinforcement Learning (PRFL)\n",
    "    - industry automation and robotics manipulation\n",
    "    - dynamic treatment regimes (DTRs) in healthcare\n",
    "    - real-time bidding\n",
    "    - strategy games\n",
    "- Recommender Systems (TorchRec)\n",
    "- Interpretability and Explainability (Captum)\n",
    "- Privacy-Preserving Machine Learning (CrypTen, PySyft, Opacus)\n",
    "- Federated Learning - collaboratively training a model without the need to centralize the data (PySyft, Flower)\n",
    "\n",
    "And then there’s HuggingFace, which is widely known for its large open-source community, its model hub, and its array of Python libraries, especially in the area of natural language processing (NLP), since it started as a chatbot company in 2016."
   ]
  },
  {
   "cell_type": "markdown",
   "metadata": {},
   "source": [
    "## 2.5 Supervised vs Unsupervised Learning\n",
    "\n",
    "![](https://pbs.twimg.com/media/CdJavKoUAAAFLBG?format=jpg&name=900x900)\n",
    "Source: [@teenybiscuit](https://twitter.com/teenybiscuit/status/707727863571582978/photo/1) on Twitter"
   ]
  },
  {
   "cell_type": "markdown",
   "metadata": {},
   "source": [
    "## 2.6 Software Development vs Machine and Deep Learning"
   ]
  },
  {
   "cell_type": "markdown",
   "metadata": {},
   "source": [
    "### Software Development\n",
    "\n",
    "```python\n",
    "def celsius2fahrenheit(celsius):\n",
    "    fahrenheit = celsius*(9/5)+32\n",
    "    return fahrenheit\n",
    "```"
   ]
  },
  {
   "cell_type": "markdown",
   "metadata": {},
   "source": [
    "![](https://raw.githubusercontent.com/dvgodoy/assets/main/PyTorchInPractice/images/ch0/sw10.png)"
   ]
  },
  {
   "cell_type": "markdown",
   "metadata": {},
   "source": [
    "### Machine and Deep Learning\n",
    "\n",
    "```python\n",
    "def contains_zebra(image):\n",
    "    # write your code here\n",
    "    is_zebra = ...    \n",
    "    return is_zebra\n",
    "```"
   ]
  },
  {
   "cell_type": "markdown",
   "metadata": {},
   "source": [
    "![](https://imgs.xkcd.com/comics/tasks.png)\n",
    "\n",
    "Source: [XKCD](https://xkcd.com/1425)"
   ]
  },
  {
   "cell_type": "markdown",
   "metadata": {},
   "source": [
    "![](https://raw.githubusercontent.com/dvgodoy/assets/main/PyTorchInPractice/images/ch0/sw20.png)"
   ]
  },
  {
   "cell_type": "markdown",
   "metadata": {},
   "source": [
    "## 2.7 \"Hello Model\"\n",
    "\n",
    "Four cars: [\"Chevrolet Chevelle Malibu\"](https://en.wikipedia.org/wiki/Chevrolet_Chevelle), [\"Buick Skylark 320\"](https://en.wikipedia.org/wiki/Buick_Skylark), [\"AMC Rebel SST\"](https://en.wikipedia.org/wiki/AMC_Rebel), [\"Ford Torino\"](https://en.wikipedia.org/wiki/Ford_Torino).\n",
    "\n",
    "For each car, we know its power in HP: 130, 165, 150, and 140, respectively.\n",
    "\n",
    "The fuel-consumption for each one of the cars, in miles per gallon, is 18, 15, 16, and 17, respectively."
   ]
  },
  {
   "cell_type": "markdown",
   "metadata": {},
   "source": [
    "![](https://raw.githubusercontent.com/dvgodoy/assets/main/PyTorchInPractice/images/ch0/hp_mpg.png)"
   ]
  },
  {
   "cell_type": "markdown",
   "metadata": {},
   "source": [
    "Let's use the two extreme points only and build a formula out of them:\n",
    "\n",
    "![](https://raw.githubusercontent.com/dvgodoy/assets/main/PyTorchInPractice/images/ch0/hp_model.png)"
   ]
  },
  {
   "cell_type": "markdown",
   "metadata": {},
   "source": [
    "$$\n",
    "\\Large\n",
    "\\text{MPG} = 18 - \\frac{3}{35}(\\text{HP} - 130) = 18 - 0.0857 (\\text{HP} - 130)\n",
    "$$\n",
    "\n",
    "$$\n",
    "\\Large\n",
    "\\text{MPG} = 18 - \\frac{3}{35}(140 - 130) = 18 - 0.0857 (10) = 17.143\n",
    "$$\n",
    "\n",
    "By the way, in the model above, we have:\n",
    "- a feature, which is an attribute of the car, power (in HP)\n",
    "- a target, the fuel-consumption of the car (in MPG)\n",
    "- two parameters, 18 and -3/35\n",
    "- the second parameter, -3/35, may also be called a weight since it's a multiplying factor for a feature (HP)\n",
    "- the model's estimate for the Ford Torino, 17.143, is called a prediction\n",
    "- the difference between the prediction (17.143) and the Torino's actual consumption (17) is called an error"
   ]
  },
  {
   "cell_type": "markdown",
   "metadata": {},
   "source": [
    "## 2.8 Naming Is Hard\n",
    "\n",
    "### 2.8.1 Datasets\n",
    "\n",
    "Each dataset has a number of elements which may be called:\n",
    "\n",
    "- a data point\n",
    "- a sample\n",
    "- an instance\n",
    "\n",
    "![](https://raw.githubusercontent.com/dvgodoy/assets/main/PyTorchInPractice/images/ch0/two_images.png)"
   ]
  },
  {
   "cell_type": "markdown",
   "metadata": {},
   "source": [
    "#### Tabular Data\n",
    "\n",
    "- an attribute\n",
    "- a feature\n",
    "- a dimension\n",
    "\n",
    "![](https://raw.githubusercontent.com/dvgodoy/assets/main/PyTorchInPractice/images/ch0/table_features.png)\n",
    "\n",
    "#### Dimension\n",
    "\n",
    "![](https://raw.githubusercontent.com/dvgodoy/assets/main/PyTorchInPractice/images/ch0/features_dim.png)\n",
    "\n",
    "- one attribute/feature/column\n",
    "- the number of levels in a nested array"
   ]
  },
  {
   "cell_type": "markdown",
   "metadata": {},
   "source": [
    "#### Two Dimensions\n",
    "\n",
    "![](https://raw.githubusercontent.com/dvgodoy/assets/main/PyTorchInPractice/images/ch0/image_hw.png)"
   ]
  },
  {
   "cell_type": "markdown",
   "metadata": {},
   "source": [
    "#### Three Dimensions\n",
    "\n",
    "![](https://raw.githubusercontent.com/dvgodoy/assets/main/PyTorchInPractice/images/ch0/image_chw.png)"
   ]
  },
  {
   "cell_type": "markdown",
   "metadata": {},
   "source": [
    "#### Four Dimensions\n",
    "\n",
    "![](https://raw.githubusercontent.com/dvgodoy/assets/main/PyTorchInPractice/images/ch0/image_nchw.png)"
   ]
  },
  {
   "cell_type": "markdown",
   "metadata": {},
   "source": [
    "#### \"Answers\"\n",
    "\n",
    "- a label\n",
    "- a target\n",
    "\n",
    "![](https://raw.githubusercontent.com/dvgodoy/assets/main/PyTorchInPractice/images/ch0/features_target.png)"
   ]
  },
  {
   "cell_type": "markdown",
   "metadata": {},
   "source": [
    "### 2.8.2 Models\n",
    "\n",
    "Values learned during training may be called:\n",
    "\n",
    "- coefficients\n",
    "- parameters\n",
    "- weights"
   ]
  },
  {
   "cell_type": "markdown",
   "metadata": {},
   "source": [
    "#### Linear Regression\n",
    "\n",
    "![](https://raw.githubusercontent.com/dvgodoy/assets/main/PyTorchInPractice/images/ch0/lin_reg.png)"
   ]
  },
  {
   "cell_type": "markdown",
   "metadata": {},
   "source": [
    "#### Neural Network\n",
    "\n",
    "![](https://raw.githubusercontent.com/dvgodoy/assets/main/PyTorchInPractice/images/ch0/neural_net.png)"
   ]
  },
  {
   "cell_type": "markdown",
   "metadata": {},
   "source": [
    "## 2.9 Setup and Environment\n",
    "\n",
    "### 2.9.1 Colab\n",
    "\n",
    "#### Setting Up The Device / GPU\n",
    "\n",
    "![](https://raw.githubusercontent.com/dvgodoy/assets/main/PyTorchInPractice/images/ch0/colab_runtime.png)\n",
    "\n",
    "![](https://raw.githubusercontent.com/dvgodoy/assets/main/PyTorchInPractice/images/ch0/runtime.png)\n",
    "\n",
    "![](https://raw.githubusercontent.com/dvgodoy/assets/main/PyTorchInPractice/images/ch0/runtime2.png)"
   ]
  },
  {
   "cell_type": "markdown",
   "metadata": {},
   "source": [
    "## 2.10 Your Learning Journey\n",
    "\n",
    "The course is divided into four main parts, as shown below:\n",
    "\n",
    "- Part I: Training a Model in PyTorch (three chapters)\n",
    "  - Building Your First Dataset\n",
    "    - Lab 1A: Non-Linear Regression\n",
    "  - Training Your First Model\n",
    "    - Lab 1B: Non-Linear Regression\n",
    "  - Building Your First Datapipe\n",
    "    - Lab 2: Price Prediction\n",
    "- Part II: Transfer Learning (three chapters)\n",
    "    - Transfer Learning and Pretrained Models\n",
    "        - Lab 3: Classifying Images\n",
    "    - Pretrained Models for Computer Vision\n",
    "    - Pretrained Models for Natural Language Processing\n",
    "        - Lab 4: Sentiment Analysis\n",
    "- Part III: Computer Vision (six chapters)\n",
    "    - Image Classification with Torchvision\n",
    "    - Fine-Tuning Pretrained Models for Computer Vision\n",
    "    - Serving Models with TorchServe\n",
    "    - Datasets and Transformations for Object Detection and Image Segmentation\n",
    "        - Lab 5A: Fine-Tuning Object Detection Models\n",
    "    - Models for Object Detection and Image Segmentation\n",
    "        - Lab 5B: Fine-Tuning Object Detection Models\n",
    "    - Object Detection Evaluation\n",
    "- Part IV: Natural Language Processing (four chapters)\n",
    "    - Word Embeddings and Text Classification\n",
    "        - Lab 6: Text Classification Using Embeddings\n",
    "    - Contextual Word Embeddings with Transformers\n",
    "    - HuggingFace Pipelines for NLP Tasks\n",
    "        - Lab 7: Document Q&A\n",
    "    - Q&A, Summarization, and LLMs\n",
    "\n",
    "![](https://raw.githubusercontent.com/dvgodoy/assets/main/PyTorchInPractice/images/ch0/data_model_step0.png)"
   ]
  }
 ],
 "metadata": {
  "kernelspec": {
   "display_name": "Python 3",
   "language": "python",
   "name": "python3"
  },
  "language_info": {
   "codemirror_mode": {
    "name": "ipython",
    "version": 3
   },
   "file_extension": ".py",
   "mimetype": "text/x-python",
   "name": "python",
   "nbconvert_exporter": "python",
   "pygments_lexer": "ipython3",
   "version": "3.7.4"
  }
 },
 "nbformat": 4,
 "nbformat_minor": 5
}
